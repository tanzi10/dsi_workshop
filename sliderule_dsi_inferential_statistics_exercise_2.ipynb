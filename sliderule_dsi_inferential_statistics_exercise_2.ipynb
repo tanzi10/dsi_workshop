{
 "cells": [
  {
   "cell_type": "markdown",
   "metadata": {},
   "source": [
    "\n",
    "### Examining racial discrimination in the US job market\n",
    "\n",
    "#### Background\n",
    "Racial discrimination continues to be pervasive in cultures throughout the world. Researchers examined the level of racial discrimination in the United States labor market by randomly assigning identical résumés black-sounding or white-sounding names and observing the impact on requests for interviews from employers.\n",
    "\n",
    "#### Data\n",
    "In the dataset provided, each row represents a resume. The 'race' column has two values, 'b' and 'w', indicating black-sounding and white-sounding. The column 'call' has two values, 1 and 0, indicating whether the resume received a call from employers or not.\n",
    "\n",
    "Note that the 'b' and 'w' values in race are assigned randomly to the resumes.\n",
    "\n",
    "#### Exercise\n",
    "You will perform a statistical analysis to establish whether race has a significant impact on the rate of callbacks for resumes.\n",
    "\n",
    "Answer the following questions **in this notebook below and submit to your Github account**. \n",
    "\n",
    "   1. What test is appropriate for this problem? Does CLT apply?\n",
    "   2. What are the null and alternate hypotheses?\n",
    "   3. Compute margin of error, confidence interval, and p-value.\n",
    "   4. Discuss statistical significance.\n",
    "\n",
    "You can include written notes in notebook cells using Markdown: \n",
    "   - In the control panel at the top, choose Cell > Cell Type > Markdown\n",
    "   - Markdown syntax: http://nestacms.com/docs/creating-content/markdown-cheat-sheet\n",
    "\n",
    "\n",
    "#### Resources\n",
    "+ Experiment information and data source: http://www.povertyactionlab.org/evaluation/discrimination-job-market-united-states\n",
    "+ Scipy statistical methods: http://docs.scipy.org/doc/scipy/reference/stats.html \n",
    "+ Markdown syntax: http://nestacms.com/docs/creating-content/markdown-cheat-sheet\n",
    "\n",
    "****"
   ]
  },
  {
   "cell_type": "code",
   "execution_count": 31,
   "metadata": {
    "collapsed": true
   },
   "outputs": [],
   "source": [
    "from __future__ import division\n",
    "import pandas as pd\n",
    "import numpy as np\n",
    "from scipy import stats"
   ]
  },
  {
   "cell_type": "code",
   "execution_count": 27,
   "metadata": {
    "collapsed": false
   },
   "outputs": [],
   "source": [
    "data = pd.io.stata.read_stata('data/us_job_market_discrimination.dta')"
   ]
  },
  {
   "cell_type": "markdown",
   "metadata": {},
   "source": [
    "Answer 1:\n",
    "Here, both 'race' and 'callback' are categorical data and their possible values are described as 'success' or 'failure'. So, the data is best described as Bernoulli distribution. A hypothesis test will be appropriate to test whether race has a significant impact on callback rate."
   ]
  },
  {
   "cell_type": "code",
   "execution_count": 28,
   "metadata": {
    "collapsed": false
   },
   "outputs": [
    {
     "name": "stdout",
     "output_type": "stream",
     "text": [
      "CLT applies, sample size is large enough and sample mean is approx. normally distirbuted.\n"
     ]
    }
   ],
   "source": [
    "# number of callbacks for black-sounding names\n",
    "race_black = data[data.race=='b']\n",
    "race_white = data[data.race=='w']\n",
    "race_black_gotcall = race_black[race_black.call==1]\n",
    "race_black_nocall = race_black[race_black.call==0]\n",
    "race_white_gotcall = race_white[race_white.call==1]\n",
    "race_white_nocall = race_white[race_white.call==0]\n",
    "\n",
    "\n",
    "\n",
    "n_black = len(race_black)                       #sample size of black-sounding names\n",
    "n_white = len(race_white)                       #sample size of white-sounding names\n",
    "pi_black_hat = len(race_black_gotcall)/n_black  #sample mean of black-sounding names who got call\n",
    "pi_white_hat = len(race_white_gotcall)/n_white  #sample mean of white-sounding names who got call\n",
    "\n",
    "sigma = np.sqrt((pi_black_hat*(1-pi_black_hat)/n_black)+(pi_white_hat*(1-pi_white_hat)/n_white)) #estimated std error\n",
    "\n",
    "#Does CLT apply? \n",
    "if pi_black_hat*n_black>=15 and (1-pi_black_hat)*n_black>=15 :\n",
    "    print \"CLT applies, sample size is large enough and sample mean is approx. normally distirbuted.\"\n",
    "else:\n",
    "    print \"CLT does not apply for this sample size.\"\n",
    "    "
   ]
  },
  {
   "cell_type": "markdown",
   "metadata": {
    "collapsed": true
   },
   "source": [
    "Answer 2:\n",
    "Null hypothesis,\n",
    "H0: call back has no racial impact, i.e. pi_black_hat = pi_white_hat; i.e. pi_black_hat - pi_white_hat = 0\n",
    "Alternate hypothesis, \n",
    "H1: call back has racial impact, i.e. pi_black_hat != pi_white_hat; i.e. pi_black_hat - pi_white_hat != 0"
   ]
  },
  {
   "cell_type": "markdown",
   "metadata": {},
   "source": [
    "Answer 3:\n",
    "margin of error, confidence interval, and p-value computation"
   ]
  },
  {
   "cell_type": "code",
   "execution_count": 36,
   "metadata": {
    "collapsed": false
   },
   "outputs": [
    {
     "name": "stdout",
     "output_type": "stream",
     "text": [
      "Margin of error is 1.52551260282 %, Confidence interval is ( -1.55754545703 , 1.49347974861 ) and p-value is 3.86256520752e-05\n"
     ]
    }
   ],
   "source": [
    "alpha = 0.05 #assuming 95% confidence interval \n",
    "\n",
    "z_stat = stats.norm.ppf(1-alpha/2)\n",
    "\n",
    "MoE = z_stat * sigma*100\n",
    "CI_lower = (pi_black_hat - pi_white_hat) - MoE\n",
    "CI_upper = (pi_black_hat - pi_white_hat) + MoE\n",
    "test_stat = (pi_black_hat - pi_white_hat-0)/sigma\n",
    "p_value = 2* stats.norm.cdf(test_stat)     #as, this is a two sided test\n",
    "print \"Margin of error is\",MoE,\"%, Confidence interval is\",'(',CI_lower,',', CI_upper,\") and p-value is\",p_value"
   ]
  },
  {
   "cell_type": "markdown",
   "metadata": {},
   "source": [
    "Answer 4: \n",
    "Discussing statistical significance based on hypothesis tesing "
   ]
  },
  {
   "cell_type": "code",
   "execution_count": 37,
   "metadata": {
    "collapsed": false
   },
   "outputs": [
    {
     "name": "stdout",
     "output_type": "stream",
     "text": [
      "p-value is 3.86256520752e-05\n",
      "This shows very strong evidence for alternate hypothesis, means this rejects null hypothesis.\n",
      "There is significant racial impact on getting call back from employer.\n"
     ]
    }
   ],
   "source": [
    "if p_value < 0.001:\n",
    "    print \"p-value is\", p_value\n",
    "    print \"This shows very strong evidence for alternate hypothesis, means this rejects null hypothesis.\"\n",
    "    print \"There is significant racial impact on getting call back from employer.\"\n",
    "if 0.001< p_value < 0.05 :\n",
    "    print \"p-value is\", p_value\n",
    "    print \"This shows strong evidence for alternate hypothesis, means this rejects null hypothesis.\"\n",
    "    print \"There is significant racial impact on getting call back from employer.\"\n",
    "if 0.05< p_value < 0.15 :\n",
    "    print \"p-value is\", p_value\n",
    "    print \"This shows marginal evidence for alternate hypothesis, means this rejects null hypothesis.\"\n",
    "    print \"There is marginally racial impact on getting call back from employer.\"\n",
    "if 0.15< p_value :\n",
    "    print \"p-value is\", p_value\n",
    "    print \"This shows no strong evidence for alternate hypothesis, means this do not reject null hypothesis.\"\n",
    "    print \"No racial impact on getting call back from employer.\""
   ]
  }
 ],
 "metadata": {
  "kernelspec": {
   "display_name": "Python 2",
   "language": "python",
   "name": "python2"
  },
  "language_info": {
   "codemirror_mode": {
    "name": "ipython",
    "version": 2
   },
   "file_extension": ".py",
   "mimetype": "text/x-python",
   "name": "python",
   "nbconvert_exporter": "python",
   "pygments_lexer": "ipython2",
   "version": "2.7.11"
  }
 },
 "nbformat": 4,
 "nbformat_minor": 0
}
