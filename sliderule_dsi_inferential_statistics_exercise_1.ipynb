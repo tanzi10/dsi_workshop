{
 "cells": [
  {
   "cell_type": "markdown",
   "metadata": {},
   "source": [
    "## What is the true normal human body temperature? \n",
    "\n",
    "#### Background\n",
    "\n",
    "The mean normal body temperature was held to be 37$^{\\circ}$C or 98.6$^{\\circ}$F for more than 120 years since it was first conceptualized and reported by Carl Wunderlich in a famous 1868 book. In 1992, this value was revised to 36.8$^{\\circ}$C or 98.2$^{\\circ}$F. \n",
    "\n",
    "#### Exercise\n",
    "In this exercise, you will analyze a dataset of human body temperatures and employ the concepts of hypothesis testing, confidence intervals, and statistical significance.\n",
    "\n",
    "Answer the following questions **in this notebook below and submit to your Github account**. \n",
    "\n",
    "1.  Is the distribution of body temperatures normal? \n",
    "    - Remember that this is a condition for the CLT, and hence the statistical tests we are using, to apply. \n",
    "2.  Is the true population mean really 98.6 degrees F?\n",
    "    - Bring out the one sample hypothesis test! In this situation, is it approriate to apply a z-test or a t-test? How will the result be different?\n",
    "3.  At what temperature should we consider someone's temperature to be \"abnormal\"?\n",
    "    - Start by computing the margin of error and confidence interval.\n",
    "4.  Is there a significant difference between males and females in normal temperature?\n",
    "    - Set up and solve for a two sample hypothesis testing.\n",
    "\n",
    "You can include written notes in notebook cells using Markdown: \n",
    "   - In the control panel at the top, choose Cell > Cell Type > Markdown\n",
    "   - Markdown syntax: http://nestacms.com/docs/creating-content/markdown-cheat-sheet\n",
    "\n",
    "#### Resources\n",
    "\n",
    "+ Information and data sources: http://www.amstat.org/publications/jse/datasets/normtemp.txt, http://www.amstat.org/publications/jse/jse_data_archive.htm\n",
    "+ Markdown syntax: http://nestacms.com/docs/creating-content/markdown-cheat-sheet\n",
    "\n",
    "****"
   ]
  },
  {
   "cell_type": "code",
   "execution_count": 8,
   "metadata": {
    "collapsed": true
   },
   "outputs": [],
   "source": [
    "import pandas as pd\n",
    "import numpy as np\n",
    "import scipy.stats as stats"
   ]
  },
  {
   "cell_type": "code",
   "execution_count": 9,
   "metadata": {
    "collapsed": false
   },
   "outputs": [],
   "source": [
    "df = pd.read_csv('data/human_body_temperature.csv')"
   ]
  },
  {
   "cell_type": "code",
   "execution_count": 10,
   "metadata": {
    "collapsed": false
   },
   "outputs": [],
   "source": [
    "x = df.iloc[:,0]"
   ]
  },
  {
   "cell_type": "code",
   "execution_count": 11,
   "metadata": {
    "collapsed": false
   },
   "outputs": [
    {
     "data": {
      "text/plain": [
       "(2.7038014333192031, 0.2587479863488254)"
      ]
     },
     "execution_count": 11,
     "metadata": {},
     "output_type": "execute_result"
    }
   ],
   "source": [
    "stats.normaltest(x)"
   ]
  },
  {
   "cell_type": "markdown",
   "metadata": {},
   "source": [
    "Answer 1: \n",
    "This normal test returns 2-tuple of chi-squared statistics and p-value. Here, the p-value is 0.2587 (approx). Assuming Null hypothesis that x comes from normal distribution, the p-value obtained is greater than .15, so, not in favor of alternate hypothesis.\n",
    "So, this p-value suggests in favor of null hypothesis."
   ]
  },
  {
   "cell_type": "markdown",
   "metadata": {},
   "source": [
    "Answer 2: \n",
    "Assume, H0: true population mean is 98.6F; mu = 98.6\n",
    "H1: true population mean is not 98.6F; mu != 98.6"
   ]
  },
  {
   "cell_type": "code",
   "execution_count": 13,
   "metadata": {
    "collapsed": false
   },
   "outputs": [
    {
     "name": "stdout",
     "output_type": "stream",
     "text": [
      "Use z-test\n",
      "p-value is  4.9021570146e-08\n",
      "This shows very strong evidence for alternate hypothesis, means this rejects null hypothesis.\n",
      "The true population mean is not 98.6F\n"
     ]
    }
   ],
   "source": [
    "n = len(x)\n",
    "if n>=30:\n",
    "    print\"Use z-test\"\n",
    "else:\n",
    "    print \"Use t-test\"\n",
    "#for z-test\n",
    "mu = 98.6\n",
    "sample_mean = x.mean(axis =1)        # sample mean of temperature\n",
    "sample_std = x.std(axis =1)          #sample standard deviation\n",
    "sigma = sample_std / np.sqrt(n)      #true std error of temperature \n",
    "test_stat = (sample_mean-mu)/sigma   #calculate test statistics\n",
    "p_value = 2*stats.norm.cdf(test_stat)  #calculate p-value from cumulative propability function for two-sided test\n",
    "\n",
    "if p_value < 0.001:\n",
    "    print \"p-value is \", p_value\n",
    "    print \"This shows very strong evidence for alternate hypothesis, means this rejects null hypothesis.\"\n",
    "    print \"The true population mean is not 98.6F\"\n",
    "if 0.001< p_value < 0.05 :\n",
    "    print \"p-value is \", p_value\n",
    "    print \"This shows strong evidence for alternate hypothesis, means this rejects null hypothesis.\"\n",
    "    print \"The true population mean is not 98.6F\"\n",
    "if 0.05< p_value < 0.15 :\n",
    "    print \"p-value is \", p_value\n",
    "    print \"This shows marginal evidence for alternate hypothesis, means this rejects null hypothesis.\"\n",
    "    print \"The true population mean is not 98.6F\"\n",
    "if 0.15< p_value :\n",
    "    print \"p-value is \", p_value\n",
    "    print \"This shows no strong evidence for alternate hypothesis, means this do not reject null hypothesis.\"\n",
    "    print \"The true population mean is 98.6F\"\n",
    "    "
   ]
  },
  {
   "cell_type": "markdown",
   "metadata": {},
   "source": [
    "Answer 3: \n",
    "Assume, confidence interval is 95%"
   ]
  },
  {
   "cell_type": "code",
   "execution_count": 15,
   "metadata": {
    "collapsed": false
   },
   "outputs": [
    {
     "name": "stdout",
     "output_type": "stream",
     "text": [
      "Someone's temperature would be abnormal if its less than 98.1231964282 F or more than 98.3752651103 F\n"
     ]
    }
   ],
   "source": [
    "alpha = 0.05\n",
    "z_stat = stats.norm.ppf(1-alpha/2)\n",
    "MoE = z_stat * sigma\n",
    "CI_lower = sample_mean - MoE\n",
    "CI_upper = sample_mean + MoE\n",
    "print \"Someone's temperature would be abnormal if its less than\",CI_lower,\"F or more than\",CI_upper,\"F\""
   ]
  },
  {
   "cell_type": "markdown",
   "metadata": {
    "collapsed": true
   },
   "source": [
    "Answer 4:\n",
    "Assume, \n",
    "H0: No significant difference between males and females in normal temperature; mu_male-mu_female = 0\n",
    "H1: significant difference between males and females in normal temperature; mu_male-mu_female != 0"
   ]
  },
  {
   "cell_type": "code",
   "execution_count": 16,
   "metadata": {
    "collapsed": false
   },
   "outputs": [
    {
     "name": "stdout",
     "output_type": "stream",
     "text": [
      "Use z-test\n",
      "p-value is  4.9021570146e-08\n",
      "This shows very strong evidence for alternate hypothesis, means this rejects null hypothesis.\n",
      "There is significant difference between males and females in normal temperature\n"
     ]
    }
   ],
   "source": [
    "df_male = df[df.gender=='M']                   #subset for male\n",
    "df_female = df[df.gender=='F']                 #subset for female\n",
    "\n",
    "n_male = len(df_male)                          #sample size\n",
    "n_female = len(df_female)\n",
    "\n",
    "sample_mean_male = df_male.mean(axis=1)        #sample mean for male group\n",
    "sample_mean_female = df_female.mean(axis=1)    #sample mean for female group\n",
    "\n",
    "sample_std_male = df_male.std(axis =1)         #std dev for male group\n",
    "sample_std_female = df_female.std(axis =1)     #std dev for female group\n",
    "\n",
    "sigma = np.sqrt((sample_std_male**2/n_male)+(sample_std_female**2/n_female))\n",
    "test_stat_mu = ((sample_mean_male-sample_mean_female)-0)/sigma\n",
    "p_value = 2* stats.norm.cdf(test_stat) \n",
    "\n",
    "if n_male>=30:\n",
    "    print\"Use z-test\"\n",
    "else:\n",
    "    print \"Use t-test\"\n",
    "\n",
    "#for z-test    \n",
    "if p_value < 0.001:\n",
    "    print \"p-value is \", p_value\n",
    "    print \"This shows very strong evidence for alternate hypothesis, means this rejects null hypothesis.\"\n",
    "    print \"There is significant difference between males and females in normal temperature\"\n",
    "if 0.001< p_value < 0.05 :\n",
    "    print \"p-value is \", p_value\n",
    "    print \"This shows strong evidence for alternate hypothesis, means this rejects null hypothesis.\"\n",
    "    print \"There is significant difference between males and females in normal temperature\"\n",
    "if 0.05< p_value < 0.15 :\n",
    "    print \"p-value is \", p_value\n",
    "    print \"This shows marginal evidence for alternate hypothesis, means this rejects null hypothesis.\"\n",
    "    print \"There is difference between males and females in normal temperature\"\n",
    "if 0.15< p_value :\n",
    "    print \"p-value is \", p_value\n",
    "    print \"This shows no strong evidence for alternate hypothesis, means this do not reject null hypothesis.\"\n",
    "    print \"No significant difference between males and females in normal temperature\""
   ]
  }
 ],
 "metadata": {
  "kernelspec": {
   "display_name": "Python 2",
   "language": "python",
   "name": "python2"
  },
  "language_info": {
   "codemirror_mode": {
    "name": "ipython",
    "version": 2
   },
   "file_extension": ".py",
   "mimetype": "text/x-python",
   "name": "python",
   "nbconvert_exporter": "python",
   "pygments_lexer": "ipython2",
   "version": "2.7.11"
  }
 },
 "nbformat": 4,
 "nbformat_minor": 0
}
