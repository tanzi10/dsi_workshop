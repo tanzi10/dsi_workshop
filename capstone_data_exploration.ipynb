{
 "cells": [
  {
   "cell_type": "code",
   "execution_count": 1,
   "metadata": {
    "collapsed": false
   },
   "outputs": [
    {
     "name": "stderr",
     "output_type": "stream",
     "text": [
      "/Users/tanzinazaman/anaconda/lib/python2.7/site-packages/pandas/computation/__init__.py:19: UserWarning: The installed version of numexpr 2.4.4 is not supported in pandas and will be not be used\n",
      "\n",
      "  UserWarning)\n"
     ]
    }
   ],
   "source": [
    "%matplotlib inline\n",
    "import matplotlib\n",
    "import matplotlib.pyplot as plt\n",
    "import pandas as pd\n",
    "import numpy as np"
   ]
  },
  {
   "cell_type": "code",
   "execution_count": 2,
   "metadata": {
    "collapsed": true
   },
   "outputs": [],
   "source": [
    "parent_df = pd.read_csv('expedia_train.csv')"
   ]
  },
  {
   "cell_type": "code",
   "execution_count": 3,
   "metadata": {
    "collapsed": false
   },
   "outputs": [
    {
     "data": {
      "text/plain": [
       "(37670293, 24)"
      ]
     },
     "execution_count": 3,
     "metadata": {},
     "output_type": "execute_result"
    }
   ],
   "source": [
    "#Dimention of Data frame\n",
    "parent_df.shape"
   ]
  },
  {
   "cell_type": "code",
   "execution_count": 20,
   "metadata": {
    "collapsed": false
   },
   "outputs": [
    {
     "data": {
      "text/plain": [
       "date_time                     object\n",
       "site_name                      int64\n",
       "posa_continent                 int64\n",
       "user_location_country          int64\n",
       "user_location_region           int64\n",
       "user_location_city             int64\n",
       "orig_destination_distance    float64\n",
       "user_id                        int64\n",
       "is_mobile                      int64\n",
       "is_package                     int64\n",
       "channel                        int64\n",
       "srch_ci                       object\n",
       "srch_co                       object\n",
       "srch_adults_cnt                int64\n",
       "srch_children_cnt              int64\n",
       "srch_rm_cnt                    int64\n",
       "srch_destination_id            int64\n",
       "srch_destination_type_id       int64\n",
       "is_booking                     int64\n",
       "cnt                            int64\n",
       "hotel_continent                int64\n",
       "hotel_country                  int64\n",
       "hotel_market                   int64\n",
       "hotel_cluster                  int64\n",
       "dtype: object"
      ]
     },
     "execution_count": 20,
     "metadata": {},
     "output_type": "execute_result"
    }
   ],
   "source": [
    "#check data types\n",
    "parent_df.dtypes"
   ]
  },
  {
   "cell_type": "code",
   "execution_count": 4,
   "metadata": {
    "collapsed": false
   },
   "outputs": [
    {
     "data": {
      "text/html": [
       "<div>\n",
       "<table border=\"1\" class=\"dataframe\">\n",
       "  <thead>\n",
       "    <tr style=\"text-align: right;\">\n",
       "      <th></th>\n",
       "      <th>0</th>\n",
       "      <th>1</th>\n",
       "      <th>2</th>\n",
       "      <th>3</th>\n",
       "      <th>4</th>\n",
       "    </tr>\n",
       "  </thead>\n",
       "  <tbody>\n",
       "    <tr>\n",
       "      <th>date_time</th>\n",
       "      <td>2014-08-11 07:46:59</td>\n",
       "      <td>2014-08-11 08:22:12</td>\n",
       "      <td>2014-08-11 08:24:33</td>\n",
       "      <td>2014-08-09 18:05:16</td>\n",
       "      <td>2014-08-09 18:08:18</td>\n",
       "    </tr>\n",
       "    <tr>\n",
       "      <th>site_name</th>\n",
       "      <td>2</td>\n",
       "      <td>2</td>\n",
       "      <td>2</td>\n",
       "      <td>2</td>\n",
       "      <td>2</td>\n",
       "    </tr>\n",
       "    <tr>\n",
       "      <th>posa_continent</th>\n",
       "      <td>3</td>\n",
       "      <td>3</td>\n",
       "      <td>3</td>\n",
       "      <td>3</td>\n",
       "      <td>3</td>\n",
       "    </tr>\n",
       "    <tr>\n",
       "      <th>user_location_country</th>\n",
       "      <td>66</td>\n",
       "      <td>66</td>\n",
       "      <td>66</td>\n",
       "      <td>66</td>\n",
       "      <td>66</td>\n",
       "    </tr>\n",
       "    <tr>\n",
       "      <th>user_location_region</th>\n",
       "      <td>348</td>\n",
       "      <td>348</td>\n",
       "      <td>348</td>\n",
       "      <td>442</td>\n",
       "      <td>442</td>\n",
       "    </tr>\n",
       "    <tr>\n",
       "      <th>user_location_city</th>\n",
       "      <td>48862</td>\n",
       "      <td>48862</td>\n",
       "      <td>48862</td>\n",
       "      <td>35390</td>\n",
       "      <td>35390</td>\n",
       "    </tr>\n",
       "    <tr>\n",
       "      <th>orig_destination_distance</th>\n",
       "      <td>2234.26</td>\n",
       "      <td>2234.26</td>\n",
       "      <td>2234.26</td>\n",
       "      <td>913.193</td>\n",
       "      <td>913.626</td>\n",
       "    </tr>\n",
       "    <tr>\n",
       "      <th>user_id</th>\n",
       "      <td>12</td>\n",
       "      <td>12</td>\n",
       "      <td>12</td>\n",
       "      <td>93</td>\n",
       "      <td>93</td>\n",
       "    </tr>\n",
       "    <tr>\n",
       "      <th>is_mobile</th>\n",
       "      <td>0</td>\n",
       "      <td>0</td>\n",
       "      <td>0</td>\n",
       "      <td>0</td>\n",
       "      <td>0</td>\n",
       "    </tr>\n",
       "    <tr>\n",
       "      <th>is_package</th>\n",
       "      <td>1</td>\n",
       "      <td>1</td>\n",
       "      <td>0</td>\n",
       "      <td>0</td>\n",
       "      <td>0</td>\n",
       "    </tr>\n",
       "    <tr>\n",
       "      <th>channel</th>\n",
       "      <td>9</td>\n",
       "      <td>9</td>\n",
       "      <td>9</td>\n",
       "      <td>3</td>\n",
       "      <td>3</td>\n",
       "    </tr>\n",
       "    <tr>\n",
       "      <th>srch_ci</th>\n",
       "      <td>2014-08-27</td>\n",
       "      <td>2014-08-29</td>\n",
       "      <td>2014-08-29</td>\n",
       "      <td>2014-11-23</td>\n",
       "      <td>2014-11-23</td>\n",
       "    </tr>\n",
       "    <tr>\n",
       "      <th>srch_co</th>\n",
       "      <td>2014-08-31</td>\n",
       "      <td>2014-09-02</td>\n",
       "      <td>2014-09-02</td>\n",
       "      <td>2014-11-28</td>\n",
       "      <td>2014-11-28</td>\n",
       "    </tr>\n",
       "    <tr>\n",
       "      <th>srch_adults_cnt</th>\n",
       "      <td>2</td>\n",
       "      <td>2</td>\n",
       "      <td>2</td>\n",
       "      <td>2</td>\n",
       "      <td>2</td>\n",
       "    </tr>\n",
       "    <tr>\n",
       "      <th>srch_children_cnt</th>\n",
       "      <td>0</td>\n",
       "      <td>0</td>\n",
       "      <td>0</td>\n",
       "      <td>0</td>\n",
       "      <td>0</td>\n",
       "    </tr>\n",
       "    <tr>\n",
       "      <th>srch_rm_cnt</th>\n",
       "      <td>1</td>\n",
       "      <td>1</td>\n",
       "      <td>1</td>\n",
       "      <td>1</td>\n",
       "      <td>1</td>\n",
       "    </tr>\n",
       "    <tr>\n",
       "      <th>srch_destination_id</th>\n",
       "      <td>8250</td>\n",
       "      <td>8250</td>\n",
       "      <td>8250</td>\n",
       "      <td>14984</td>\n",
       "      <td>14984</td>\n",
       "    </tr>\n",
       "    <tr>\n",
       "      <th>srch_destination_type_id</th>\n",
       "      <td>1</td>\n",
       "      <td>1</td>\n",
       "      <td>1</td>\n",
       "      <td>1</td>\n",
       "      <td>1</td>\n",
       "    </tr>\n",
       "    <tr>\n",
       "      <th>is_booking</th>\n",
       "      <td>0</td>\n",
       "      <td>1</td>\n",
       "      <td>0</td>\n",
       "      <td>0</td>\n",
       "      <td>0</td>\n",
       "    </tr>\n",
       "    <tr>\n",
       "      <th>cnt</th>\n",
       "      <td>3</td>\n",
       "      <td>1</td>\n",
       "      <td>1</td>\n",
       "      <td>1</td>\n",
       "      <td>1</td>\n",
       "    </tr>\n",
       "    <tr>\n",
       "      <th>hotel_continent</th>\n",
       "      <td>2</td>\n",
       "      <td>2</td>\n",
       "      <td>2</td>\n",
       "      <td>2</td>\n",
       "      <td>2</td>\n",
       "    </tr>\n",
       "    <tr>\n",
       "      <th>hotel_country</th>\n",
       "      <td>50</td>\n",
       "      <td>50</td>\n",
       "      <td>50</td>\n",
       "      <td>50</td>\n",
       "      <td>50</td>\n",
       "    </tr>\n",
       "    <tr>\n",
       "      <th>hotel_market</th>\n",
       "      <td>628</td>\n",
       "      <td>628</td>\n",
       "      <td>628</td>\n",
       "      <td>1457</td>\n",
       "      <td>1457</td>\n",
       "    </tr>\n",
       "    <tr>\n",
       "      <th>hotel_cluster</th>\n",
       "      <td>1</td>\n",
       "      <td>1</td>\n",
       "      <td>1</td>\n",
       "      <td>80</td>\n",
       "      <td>21</td>\n",
       "    </tr>\n",
       "  </tbody>\n",
       "</table>\n",
       "</div>"
      ],
      "text/plain": [
       "                                             0                    1  \\\n",
       "date_time                  2014-08-11 07:46:59  2014-08-11 08:22:12   \n",
       "site_name                                    2                    2   \n",
       "posa_continent                               3                    3   \n",
       "user_location_country                       66                   66   \n",
       "user_location_region                       348                  348   \n",
       "user_location_city                       48862                48862   \n",
       "orig_destination_distance              2234.26              2234.26   \n",
       "user_id                                     12                   12   \n",
       "is_mobile                                    0                    0   \n",
       "is_package                                   1                    1   \n",
       "channel                                      9                    9   \n",
       "srch_ci                             2014-08-27           2014-08-29   \n",
       "srch_co                             2014-08-31           2014-09-02   \n",
       "srch_adults_cnt                              2                    2   \n",
       "srch_children_cnt                            0                    0   \n",
       "srch_rm_cnt                                  1                    1   \n",
       "srch_destination_id                       8250                 8250   \n",
       "srch_destination_type_id                     1                    1   \n",
       "is_booking                                   0                    1   \n",
       "cnt                                          3                    1   \n",
       "hotel_continent                              2                    2   \n",
       "hotel_country                               50                   50   \n",
       "hotel_market                               628                  628   \n",
       "hotel_cluster                                1                    1   \n",
       "\n",
       "                                             2                    3  \\\n",
       "date_time                  2014-08-11 08:24:33  2014-08-09 18:05:16   \n",
       "site_name                                    2                    2   \n",
       "posa_continent                               3                    3   \n",
       "user_location_country                       66                   66   \n",
       "user_location_region                       348                  442   \n",
       "user_location_city                       48862                35390   \n",
       "orig_destination_distance              2234.26              913.193   \n",
       "user_id                                     12                   93   \n",
       "is_mobile                                    0                    0   \n",
       "is_package                                   0                    0   \n",
       "channel                                      9                    3   \n",
       "srch_ci                             2014-08-29           2014-11-23   \n",
       "srch_co                             2014-09-02           2014-11-28   \n",
       "srch_adults_cnt                              2                    2   \n",
       "srch_children_cnt                            0                    0   \n",
       "srch_rm_cnt                                  1                    1   \n",
       "srch_destination_id                       8250                14984   \n",
       "srch_destination_type_id                     1                    1   \n",
       "is_booking                                   0                    0   \n",
       "cnt                                          1                    1   \n",
       "hotel_continent                              2                    2   \n",
       "hotel_country                               50                   50   \n",
       "hotel_market                               628                 1457   \n",
       "hotel_cluster                                1                   80   \n",
       "\n",
       "                                             4  \n",
       "date_time                  2014-08-09 18:08:18  \n",
       "site_name                                    2  \n",
       "posa_continent                               3  \n",
       "user_location_country                       66  \n",
       "user_location_region                       442  \n",
       "user_location_city                       35390  \n",
       "orig_destination_distance              913.626  \n",
       "user_id                                     93  \n",
       "is_mobile                                    0  \n",
       "is_package                                   0  \n",
       "channel                                      3  \n",
       "srch_ci                             2014-11-23  \n",
       "srch_co                             2014-11-28  \n",
       "srch_adults_cnt                              2  \n",
       "srch_children_cnt                            0  \n",
       "srch_rm_cnt                                  1  \n",
       "srch_destination_id                      14984  \n",
       "srch_destination_type_id                     1  \n",
       "is_booking                                   0  \n",
       "cnt                                          1  \n",
       "hotel_continent                              2  \n",
       "hotel_country                               50  \n",
       "hotel_market                              1457  \n",
       "hotel_cluster                               21  "
      ]
     },
     "execution_count": 4,
     "metadata": {},
     "output_type": "execute_result"
    }
   ],
   "source": [
    "# Attributes of the data frame and its first five entries.\n",
    "parent_df.head(5).transpose()"
   ]
  },
  {
   "cell_type": "code",
   "execution_count": 16,
   "metadata": {
    "collapsed": false
   },
   "outputs": [
    {
     "name": "stdout",
     "output_type": "stream",
     "text": [
      "date_time                    False\n",
      "site_name                    False\n",
      "posa_continent               False\n",
      "user_location_country        False\n",
      "user_location_region         False\n",
      "user_location_city           False\n",
      "orig_destination_distance     True\n",
      "user_id                      False\n",
      "is_mobile                    False\n",
      "is_package                   False\n",
      "channel                      False\n",
      "srch_ci                       True\n",
      "srch_co                       True\n",
      "srch_adults_cnt              False\n",
      "srch_children_cnt            False\n",
      "srch_rm_cnt                  False\n",
      "srch_destination_id          False\n",
      "srch_destination_type_id     False\n",
      "is_booking                   False\n",
      "cnt                          False\n",
      "hotel_continent              False\n",
      "hotel_country                False\n",
      "hotel_market                 False\n",
      "hotel_cluster                False\n",
      "dtype: bool\n"
     ]
    }
   ],
   "source": [
    "# Find which columns have NaN values \n",
    "print parent_df.isnull().any()"
   ]
  },
  {
   "cell_type": "code",
   "execution_count": 9,
   "metadata": {
    "collapsed": false
   },
   "outputs": [
    {
     "data": {
      "text/plain": [
       "91    1043720\n",
       "41     772743\n",
       "48     754033\n",
       "64     704734\n",
       "65     670960\n",
       "5      620194\n",
       "98     589178\n",
       "59     570291\n",
       "42     551605\n",
       "21     550092\n",
       "Name: hotel_cluster, dtype: int64"
      ]
     },
     "execution_count": 9,
     "metadata": {},
     "output_type": "execute_result"
    }
   ],
   "source": [
    "# Attributes of the data frame and its first last entries.\n",
    "parent_df['hotel_cluster'].value_counts().head(10)"
   ]
  },
  {
   "cell_type": "code",
   "execution_count": 31,
   "metadata": {
    "collapsed": false
   },
   "outputs": [
    {
     "name": "stdout",
     "output_type": "stream",
     "text": [
      "34669600\n"
     ]
    }
   ],
   "source": [
    "#calculate the number of click events in train set\n",
    "click_count = parent_df[parent_df.is_booking == 0]\n",
    "print len(click_count)"
   ]
  },
  {
   "cell_type": "code",
   "execution_count": 14,
   "metadata": {
    "collapsed": false
   },
   "outputs": [
    {
     "name": "stdout",
     "output_type": "stream",
     "text": [
      "1198786\n"
     ]
    }
   ],
   "source": [
    "# Number of unique user in the dataset\n",
    "unique_users = parent_df.user_id.unique()\n",
    "print len(unique_users)"
   ]
  },
  {
   "cell_type": "code",
   "execution_count": 15,
   "metadata": {
    "collapsed": false
   },
   "outputs": [
    {
     "data": {
      "text/plain": [
       "site_name                   -0.022408\n",
       "posa_continent               0.014938\n",
       "user_location_country       -0.010477\n",
       "user_location_region         0.007453\n",
       "user_location_city           0.000831\n",
       "orig_destination_distance    0.007260\n",
       "user_id                      0.001052\n",
       "is_mobile                    0.008412\n",
       "is_package                   0.038733\n",
       "channel                      0.000707\n",
       "srch_adults_cnt              0.012309\n",
       "srch_children_cnt            0.016261\n",
       "srch_rm_cnt                 -0.005954\n",
       "srch_destination_id         -0.011712\n",
       "srch_destination_type_id    -0.032850\n",
       "is_booking                  -0.021548\n",
       "cnt                          0.002944\n",
       "hotel_continent             -0.013963\n",
       "hotel_country               -0.024289\n",
       "hotel_market                 0.034205\n",
       "hotel_cluster                1.000000\n",
       "Name: hotel_cluster, dtype: float64"
      ]
     },
     "execution_count": 15,
     "metadata": {},
     "output_type": "execute_result"
    }
   ],
   "source": [
    "#Correlation check among attributes \n",
    "parent_df.corr()[\"hotel_cluster\"]"
   ]
  },
  {
   "cell_type": "code",
   "execution_count": 22,
   "metadata": {
    "collapsed": true
   },
   "outputs": [],
   "source": [
    "# Convert the date_time entry into year, month, day and day of week\n",
    "parent_df[\"date_time\"] = pd.to_datetime(parent_df[\"date_time\"])\n",
    "parent_df[\"year\"] = parent_df[\"date_time\"].dt.year\n",
    "parent_df[\"month\"] = parent_df[\"date_time\"].dt.month\n",
    "parent_df['day'] = parent_df[\"date_time\"].dt.day\n",
    "parent_df['day of week'] = parent_df[\"date_time\"].dt.weekday"
   ]
  },
  {
   "cell_type": "code",
   "execution_count": 28,
   "metadata": {
    "collapsed": false
   },
   "outputs": [],
   "source": [
    "#Calculate the duration of stay at the hotel\n",
    "parent_df[\"srch_ci\"] = pd.to_datetime(parent_df[\"srch_ci\"], format='%Y-%m-%d', errors=\"coerce\")\n",
    "parent_df[\"srch_co\"] = pd.to_datetime(parent_df[\"srch_co\"], format='%Y-%m-%d', errors=\"coerce\")\n",
    "parent_df['stay_duration'] =(parent_df['srch_co']-parent_df['srch_ci']).astype('timedelta64[D]')"
   ]
  },
  {
   "cell_type": "code",
   "execution_count": 29,
   "metadata": {
    "collapsed": false
   },
   "outputs": [
    {
     "data": {
      "text/html": [
       "<div>\n",
       "<table border=\"1\" class=\"dataframe\">\n",
       "  <thead>\n",
       "    <tr style=\"text-align: right;\">\n",
       "      <th></th>\n",
       "      <th>0</th>\n",
       "      <th>1</th>\n",
       "      <th>2</th>\n",
       "      <th>3</th>\n",
       "      <th>4</th>\n",
       "    </tr>\n",
       "  </thead>\n",
       "  <tbody>\n",
       "    <tr>\n",
       "      <th>date_time</th>\n",
       "      <td>2014-08-11 07:46:59</td>\n",
       "      <td>2014-08-11 08:22:12</td>\n",
       "      <td>2014-08-11 08:24:33</td>\n",
       "      <td>2014-08-09 18:05:16</td>\n",
       "      <td>2014-08-09 18:08:18</td>\n",
       "    </tr>\n",
       "    <tr>\n",
       "      <th>site_name</th>\n",
       "      <td>2</td>\n",
       "      <td>2</td>\n",
       "      <td>2</td>\n",
       "      <td>2</td>\n",
       "      <td>2</td>\n",
       "    </tr>\n",
       "    <tr>\n",
       "      <th>posa_continent</th>\n",
       "      <td>3</td>\n",
       "      <td>3</td>\n",
       "      <td>3</td>\n",
       "      <td>3</td>\n",
       "      <td>3</td>\n",
       "    </tr>\n",
       "    <tr>\n",
       "      <th>user_location_country</th>\n",
       "      <td>66</td>\n",
       "      <td>66</td>\n",
       "      <td>66</td>\n",
       "      <td>66</td>\n",
       "      <td>66</td>\n",
       "    </tr>\n",
       "    <tr>\n",
       "      <th>user_location_region</th>\n",
       "      <td>348</td>\n",
       "      <td>348</td>\n",
       "      <td>348</td>\n",
       "      <td>442</td>\n",
       "      <td>442</td>\n",
       "    </tr>\n",
       "    <tr>\n",
       "      <th>user_location_city</th>\n",
       "      <td>48862</td>\n",
       "      <td>48862</td>\n",
       "      <td>48862</td>\n",
       "      <td>35390</td>\n",
       "      <td>35390</td>\n",
       "    </tr>\n",
       "    <tr>\n",
       "      <th>orig_destination_distance</th>\n",
       "      <td>2234.26</td>\n",
       "      <td>2234.26</td>\n",
       "      <td>2234.26</td>\n",
       "      <td>913.193</td>\n",
       "      <td>913.626</td>\n",
       "    </tr>\n",
       "    <tr>\n",
       "      <th>user_id</th>\n",
       "      <td>12</td>\n",
       "      <td>12</td>\n",
       "      <td>12</td>\n",
       "      <td>93</td>\n",
       "      <td>93</td>\n",
       "    </tr>\n",
       "    <tr>\n",
       "      <th>is_mobile</th>\n",
       "      <td>0</td>\n",
       "      <td>0</td>\n",
       "      <td>0</td>\n",
       "      <td>0</td>\n",
       "      <td>0</td>\n",
       "    </tr>\n",
       "    <tr>\n",
       "      <th>is_package</th>\n",
       "      <td>1</td>\n",
       "      <td>1</td>\n",
       "      <td>0</td>\n",
       "      <td>0</td>\n",
       "      <td>0</td>\n",
       "    </tr>\n",
       "    <tr>\n",
       "      <th>channel</th>\n",
       "      <td>9</td>\n",
       "      <td>9</td>\n",
       "      <td>9</td>\n",
       "      <td>3</td>\n",
       "      <td>3</td>\n",
       "    </tr>\n",
       "    <tr>\n",
       "      <th>srch_ci</th>\n",
       "      <td>2014-08-27 00:00:00</td>\n",
       "      <td>2014-08-29 00:00:00</td>\n",
       "      <td>2014-08-29 00:00:00</td>\n",
       "      <td>2014-11-23 00:00:00</td>\n",
       "      <td>2014-11-23 00:00:00</td>\n",
       "    </tr>\n",
       "    <tr>\n",
       "      <th>srch_co</th>\n",
       "      <td>2014-08-31 00:00:00</td>\n",
       "      <td>2014-09-02 00:00:00</td>\n",
       "      <td>2014-09-02 00:00:00</td>\n",
       "      <td>2014-11-28 00:00:00</td>\n",
       "      <td>2014-11-28 00:00:00</td>\n",
       "    </tr>\n",
       "    <tr>\n",
       "      <th>srch_adults_cnt</th>\n",
       "      <td>2</td>\n",
       "      <td>2</td>\n",
       "      <td>2</td>\n",
       "      <td>2</td>\n",
       "      <td>2</td>\n",
       "    </tr>\n",
       "    <tr>\n",
       "      <th>srch_children_cnt</th>\n",
       "      <td>0</td>\n",
       "      <td>0</td>\n",
       "      <td>0</td>\n",
       "      <td>0</td>\n",
       "      <td>0</td>\n",
       "    </tr>\n",
       "    <tr>\n",
       "      <th>srch_rm_cnt</th>\n",
       "      <td>1</td>\n",
       "      <td>1</td>\n",
       "      <td>1</td>\n",
       "      <td>1</td>\n",
       "      <td>1</td>\n",
       "    </tr>\n",
       "    <tr>\n",
       "      <th>srch_destination_id</th>\n",
       "      <td>8250</td>\n",
       "      <td>8250</td>\n",
       "      <td>8250</td>\n",
       "      <td>14984</td>\n",
       "      <td>14984</td>\n",
       "    </tr>\n",
       "    <tr>\n",
       "      <th>srch_destination_type_id</th>\n",
       "      <td>1</td>\n",
       "      <td>1</td>\n",
       "      <td>1</td>\n",
       "      <td>1</td>\n",
       "      <td>1</td>\n",
       "    </tr>\n",
       "    <tr>\n",
       "      <th>is_booking</th>\n",
       "      <td>0</td>\n",
       "      <td>1</td>\n",
       "      <td>0</td>\n",
       "      <td>0</td>\n",
       "      <td>0</td>\n",
       "    </tr>\n",
       "    <tr>\n",
       "      <th>cnt</th>\n",
       "      <td>3</td>\n",
       "      <td>1</td>\n",
       "      <td>1</td>\n",
       "      <td>1</td>\n",
       "      <td>1</td>\n",
       "    </tr>\n",
       "    <tr>\n",
       "      <th>hotel_continent</th>\n",
       "      <td>2</td>\n",
       "      <td>2</td>\n",
       "      <td>2</td>\n",
       "      <td>2</td>\n",
       "      <td>2</td>\n",
       "    </tr>\n",
       "    <tr>\n",
       "      <th>hotel_country</th>\n",
       "      <td>50</td>\n",
       "      <td>50</td>\n",
       "      <td>50</td>\n",
       "      <td>50</td>\n",
       "      <td>50</td>\n",
       "    </tr>\n",
       "    <tr>\n",
       "      <th>hotel_market</th>\n",
       "      <td>628</td>\n",
       "      <td>628</td>\n",
       "      <td>628</td>\n",
       "      <td>1457</td>\n",
       "      <td>1457</td>\n",
       "    </tr>\n",
       "    <tr>\n",
       "      <th>hotel_cluster</th>\n",
       "      <td>1</td>\n",
       "      <td>1</td>\n",
       "      <td>1</td>\n",
       "      <td>80</td>\n",
       "      <td>21</td>\n",
       "    </tr>\n",
       "    <tr>\n",
       "      <th>year</th>\n",
       "      <td>2014</td>\n",
       "      <td>2014</td>\n",
       "      <td>2014</td>\n",
       "      <td>2014</td>\n",
       "      <td>2014</td>\n",
       "    </tr>\n",
       "    <tr>\n",
       "      <th>month</th>\n",
       "      <td>8</td>\n",
       "      <td>8</td>\n",
       "      <td>8</td>\n",
       "      <td>8</td>\n",
       "      <td>8</td>\n",
       "    </tr>\n",
       "    <tr>\n",
       "      <th>stay_duration</th>\n",
       "      <td>4</td>\n",
       "      <td>4</td>\n",
       "      <td>4</td>\n",
       "      <td>5</td>\n",
       "      <td>5</td>\n",
       "    </tr>\n",
       "  </tbody>\n",
       "</table>\n",
       "</div>"
      ],
      "text/plain": [
       "                                             0                    1  \\\n",
       "date_time                  2014-08-11 07:46:59  2014-08-11 08:22:12   \n",
       "site_name                                    2                    2   \n",
       "posa_continent                               3                    3   \n",
       "user_location_country                       66                   66   \n",
       "user_location_region                       348                  348   \n",
       "user_location_city                       48862                48862   \n",
       "orig_destination_distance              2234.26              2234.26   \n",
       "user_id                                     12                   12   \n",
       "is_mobile                                    0                    0   \n",
       "is_package                                   1                    1   \n",
       "channel                                      9                    9   \n",
       "srch_ci                    2014-08-27 00:00:00  2014-08-29 00:00:00   \n",
       "srch_co                    2014-08-31 00:00:00  2014-09-02 00:00:00   \n",
       "srch_adults_cnt                              2                    2   \n",
       "srch_children_cnt                            0                    0   \n",
       "srch_rm_cnt                                  1                    1   \n",
       "srch_destination_id                       8250                 8250   \n",
       "srch_destination_type_id                     1                    1   \n",
       "is_booking                                   0                    1   \n",
       "cnt                                          3                    1   \n",
       "hotel_continent                              2                    2   \n",
       "hotel_country                               50                   50   \n",
       "hotel_market                               628                  628   \n",
       "hotel_cluster                                1                    1   \n",
       "year                                      2014                 2014   \n",
       "month                                        8                    8   \n",
       "stay_duration                                4                    4   \n",
       "\n",
       "                                             2                    3  \\\n",
       "date_time                  2014-08-11 08:24:33  2014-08-09 18:05:16   \n",
       "site_name                                    2                    2   \n",
       "posa_continent                               3                    3   \n",
       "user_location_country                       66                   66   \n",
       "user_location_region                       348                  442   \n",
       "user_location_city                       48862                35390   \n",
       "orig_destination_distance              2234.26              913.193   \n",
       "user_id                                     12                   93   \n",
       "is_mobile                                    0                    0   \n",
       "is_package                                   0                    0   \n",
       "channel                                      9                    3   \n",
       "srch_ci                    2014-08-29 00:00:00  2014-11-23 00:00:00   \n",
       "srch_co                    2014-09-02 00:00:00  2014-11-28 00:00:00   \n",
       "srch_adults_cnt                              2                    2   \n",
       "srch_children_cnt                            0                    0   \n",
       "srch_rm_cnt                                  1                    1   \n",
       "srch_destination_id                       8250                14984   \n",
       "srch_destination_type_id                     1                    1   \n",
       "is_booking                                   0                    0   \n",
       "cnt                                          1                    1   \n",
       "hotel_continent                              2                    2   \n",
       "hotel_country                               50                   50   \n",
       "hotel_market                               628                 1457   \n",
       "hotel_cluster                                1                   80   \n",
       "year                                      2014                 2014   \n",
       "month                                        8                    8   \n",
       "stay_duration                                4                    5   \n",
       "\n",
       "                                             4  \n",
       "date_time                  2014-08-09 18:08:18  \n",
       "site_name                                    2  \n",
       "posa_continent                               3  \n",
       "user_location_country                       66  \n",
       "user_location_region                       442  \n",
       "user_location_city                       35390  \n",
       "orig_destination_distance              913.626  \n",
       "user_id                                     93  \n",
       "is_mobile                                    0  \n",
       "is_package                                   0  \n",
       "channel                                      3  \n",
       "srch_ci                    2014-11-23 00:00:00  \n",
       "srch_co                    2014-11-28 00:00:00  \n",
       "srch_adults_cnt                              2  \n",
       "srch_children_cnt                            0  \n",
       "srch_rm_cnt                                  1  \n",
       "srch_destination_id                      14984  \n",
       "srch_destination_type_id                     1  \n",
       "is_booking                                   0  \n",
       "cnt                                          1  \n",
       "hotel_continent                              2  \n",
       "hotel_country                               50  \n",
       "hotel_market                              1457  \n",
       "hotel_cluster                               21  \n",
       "year                                      2014  \n",
       "month                                        8  \n",
       "stay_duration                                5  "
      ]
     },
     "execution_count": 29,
     "metadata": {},
     "output_type": "execute_result"
    }
   ],
   "source": [
    "parent_df.head(5).transpose()"
   ]
  },
  {
   "cell_type": "code",
   "execution_count": 48,
   "metadata": {
    "collapsed": false
   },
   "outputs": [
    {
     "data": {
      "image/png": "[encoded data removed]",
      "text/plain": [
       "<matplotlib.figure.Figure at 0x2dd5b7fd0>"
      ]
     },
     "metadata": {},
     "output_type": "display_data"
    }
   ],
   "source": [
    "# Count of click and booking event\n",
    "plot_booking = parent_df.is_booking.value_counts().sort_index().plot(kind = 'bar',figsize = (18,8),color = ['b','g'], \n",
    "                                                             ylim = (0,35000000),fontsize = 12,grid=True)\n",
    "plot_booking.set_xlabel('\\nHotel search output',fontsize = 14 )\n",
    "plot_booking.set_ylabel('Count\\n',fontsize = 14 )\n",
    "plot_booking.set_title('Figure 1: Ratio of click and booking events\\n',fontsize = 18)   \n",
    "#save image\n",
    "fig = plot_booking.get_figure()\n",
    "fig.savefig('Fig1.png', dpi=300, bbox_inches='tight')"
   ]
  },
  {
   "cell_type": "code",
   "execution_count": 67,
   "metadata": {
    "collapsed": false
   },
   "outputs": [
    {
     "data": {
      "image/png": "[encoded data removed]",
      "text/plain": [
       "<matplotlib.figure.Figure at 0x11fac3690>"
      ]
     },
     "metadata": {},
     "output_type": "display_data"
    }
   ],
   "source": [
    "df_booking = parent_df.groupby(['month','hotel_continent']).size()\n",
    "df_booking = df_booking.unstack('hotel_continent')\n",
    "plot2 = df_booking.plot(kind = 'bar',figsize = (18,8))\n",
    "plot2.set_xlabel('\\nMonth',fontsize = 14 )\n",
    "plot2.set_ylabel('Count\\n',fontsize = 14 )\n",
    "plot2.set_title('Figure: Trend of hotel search continent wise over month\\n',fontsize = 18)  \n",
    "fig = plot2.get_figure()\n",
    "fig.savefig('Fig3.png', dpi=300, bbox_inches='tight')"
   ]
  },
  {
   "cell_type": "code",
   "execution_count": 54,
   "metadata": {
    "collapsed": true
   },
   "outputs": [],
   "source": [
    "fig = plot2.get_figure()\n",
    "fig.savefig('Fig2.png', dpi=300, bbox_inches='tight')"
   ]
  },
  {
   "cell_type": "code",
   "execution_count": 58,
   "metadata": {
    "collapsed": false
   },
   "outputs": [
    {
     "data": {
      "text/plain": [
       "<matplotlib.text.Text at 0x27a00e190>"
      ]
     },
     "execution_count": 58,
     "metadata": {},
     "output_type": "execute_result"
    },
    {
     "data": {
      "image/png": "[encoded data removed]",
      "text/plain": [
       "<matplotlib.figure.Figure at 0x2950fecd0>"
      ]
     },
     "metadata": {},
     "output_type": "display_data"
    }
   ],
   "source": [
    "df_booking = parent_df.groupby(['month','is_booking',]).size()\n",
    "df_booking = df_booking.unstack('is_booking')\n",
    "plot2 = df_booking.plot(kind = 'bar',figsize = (18,8))\n",
    "plot2.set_xlabel('\\nMonth',fontsize = 14 )\n",
    "plot2.set_ylabel('Count\\n',fontsize = 14 )\n",
    "plot2.set_title('Figure: Trend of hotel search events over month\\n',fontsize = 18)  "
   ]
  },
  {
   "cell_type": "code",
   "execution_count": 66,
   "metadata": {
    "collapsed": false
   },
   "outputs": [
    {
     "data": {
      "text/plain": [
       "<matplotlib.text.Text at 0x11ef64a10>"
      ]
     },
     "execution_count": 66,
     "metadata": {},
     "output_type": "execute_result"
    },
    {
     "data": {
      "image/png": "[encoded data removed]",
      "text/plain": [
       "<matplotlib.figure.Figure at 0x113f496d0>"
      ]
     },
     "metadata": {},
     "output_type": "display_data"
    }
   ],
   "source": [
    "df_booking = parent_df.groupby(['is_booking','hotel_cluster']).size()\n",
    "df_booking = df_booking.unstack('is_booking')\n",
    "plot2 = df_booking.plot(kind = 'bar',figsize = (18,8))\n",
    "plot2.set_xlabel('\\nMonth',fontsize = 14 )\n",
    "plot2.set_ylabel('Count\\n',fontsize = 14 )\n",
    "plot2.set_title('Figure 2: Trend of hotel search events over month\\n',fontsize = 18)  "
   ]
  },
  {
   "cell_type": "code",
   "execution_count": 71,
   "metadata": {
    "collapsed": false
   },
   "outputs": [
    {
     "data": {
      "text/plain": [
       "<matplotlib.text.Text at 0x144de5450>"
      ]
     },
     "execution_count": 71,
     "metadata": {},
     "output_type": "execute_result"
    },
    {
     "data": {
      "image/png": "[encoded data removed]",
      "text/plain": [
       "<matplotlib.figure.Figure at 0x1efe70990>"
      ]
     },
     "metadata": {},
     "output_type": "display_data"
    }
   ],
   "source": [
    "df_booking = parent_df.groupby(['day of week','is_booking']).size()\n",
    "#df_booking = df_booking.unstack('hotel_country')\n",
    "plot2 = df_booking.plot(kind = 'bar',figsize = (18,8),stacked = True)\n",
    "plot2.set_xlabel('\\nHotel continent',fontsize = 14 )\n",
    "plot2.set_ylabel('Count\\n',fontsize = 14 )"
   ]
  },
  {
   "cell_type": "code",
   "execution_count": 77,
   "metadata": {
    "collapsed": true
   },
   "outputs": [],
   "source": [
    "keep_col = ['day of week','year','month','day', 'hotel_cluster','is_booking']\n",
    "book= parent_df.loc[:,(keep_col)]"
   ]
  },
  {
   "cell_type": "code",
   "execution_count": 78,
   "metadata": {
    "collapsed": false
   },
   "outputs": [
    {
     "data": {
      "text/html": [
       "<div>\n",
       "<table border=\"1\" class=\"dataframe\">\n",
       "  <thead>\n",
       "    <tr style=\"text-align: right;\">\n",
       "      <th></th>\n",
       "      <th>day of week</th>\n",
       "      <th>year</th>\n",
       "      <th>month</th>\n",
       "      <th>day</th>\n",
       "      <th>hotel_cluster</th>\n",
       "      <th>is_booking</th>\n",
       "    </tr>\n",
       "  </thead>\n",
       "  <tbody>\n",
       "    <tr>\n",
       "      <th>0</th>\n",
       "      <td>0</td>\n",
       "      <td>2014</td>\n",
       "      <td>8</td>\n",
       "      <td>11</td>\n",
       "      <td>1</td>\n",
       "      <td>0</td>\n",
       "    </tr>\n",
       "    <tr>\n",
       "      <th>1</th>\n",
       "      <td>0</td>\n",
       "      <td>2014</td>\n",
       "      <td>8</td>\n",
       "      <td>11</td>\n",
       "      <td>1</td>\n",
       "      <td>1</td>\n",
       "    </tr>\n",
       "    <tr>\n",
       "      <th>2</th>\n",
       "      <td>0</td>\n",
       "      <td>2014</td>\n",
       "      <td>8</td>\n",
       "      <td>11</td>\n",
       "      <td>1</td>\n",
       "      <td>0</td>\n",
       "    </tr>\n",
       "    <tr>\n",
       "      <th>3</th>\n",
       "      <td>5</td>\n",
       "      <td>2014</td>\n",
       "      <td>8</td>\n",
       "      <td>9</td>\n",
       "      <td>80</td>\n",
       "      <td>0</td>\n",
       "    </tr>\n",
       "    <tr>\n",
       "      <th>4</th>\n",
       "      <td>5</td>\n",
       "      <td>2014</td>\n",
       "      <td>8</td>\n",
       "      <td>9</td>\n",
       "      <td>21</td>\n",
       "      <td>0</td>\n",
       "    </tr>\n",
       "  </tbody>\n",
       "</table>\n",
       "</div>"
      ],
      "text/plain": [
       "   day of week  year  month  day  hotel_cluster  is_booking\n",
       "0            0  2014      8   11              1           0\n",
       "1            0  2014      8   11              1           1\n",
       "2            0  2014      8   11              1           0\n",
       "3            5  2014      8    9             80           0\n",
       "4            5  2014      8    9             21           0"
      ]
     },
     "execution_count": 78,
     "metadata": {},
     "output_type": "execute_result"
    }
   ],
   "source": [
    "book_agg = book.groupby(['day of week','year','month','day', 'hotel_cluster']).agg(['sum', 'count'] )\n",
    "book_agg.columns = ('booking','total')"
   ]
  },
  {
   "cell_type": "code",
   "execution_count": 79,
   "metadata": {
    "collapsed": false
   },
   "outputs": [
    {
     "data": {
      "text/html": [
       "<div>\n",
       "<table border=\"1\" class=\"dataframe\">\n",
       "  <thead>\n",
       "    <tr style=\"text-align: right;\">\n",
       "      <th></th>\n",
       "      <th></th>\n",
       "      <th></th>\n",
       "      <th></th>\n",
       "      <th></th>\n",
       "      <th>booking</th>\n",
       "      <th>total</th>\n",
       "    </tr>\n",
       "    <tr>\n",
       "      <th>day of week</th>\n",
       "      <th>year</th>\n",
       "      <th>month</th>\n",
       "      <th>day</th>\n",
       "      <th>hotel_cluster</th>\n",
       "      <th></th>\n",
       "      <th></th>\n",
       "    </tr>\n",
       "  </thead>\n",
       "  <tbody>\n",
       "    <tr>\n",
       "      <th rowspan=\"5\" valign=\"top\">0</th>\n",
       "      <th rowspan=\"5\" valign=\"top\">2013</th>\n",
       "      <th rowspan=\"5\" valign=\"top\">1</th>\n",
       "      <th rowspan=\"5\" valign=\"top\">7</th>\n",
       "      <th>0</th>\n",
       "      <td>16</td>\n",
       "      <td>371</td>\n",
       "    </tr>\n",
       "    <tr>\n",
       "      <th>1</th>\n",
       "      <td>68</td>\n",
       "      <td>640</td>\n",
       "    </tr>\n",
       "    <tr>\n",
       "      <th>2</th>\n",
       "      <td>59</td>\n",
       "      <td>414</td>\n",
       "    </tr>\n",
       "    <tr>\n",
       "      <th>3</th>\n",
       "      <td>28</td>\n",
       "      <td>341</td>\n",
       "    </tr>\n",
       "    <tr>\n",
       "      <th>4</th>\n",
       "      <td>34</td>\n",
       "      <td>276</td>\n",
       "    </tr>\n",
       "  </tbody>\n",
       "</table>\n",
       "</div>"
      ],
      "text/plain": [
       "                                          booking  total\n",
       "day of week year month day hotel_cluster                \n",
       "0           2013 1     7   0                   16    371\n",
       "                           1                   68    640\n",
       "                           2                   59    414\n",
       "                           3                   28    341\n",
       "                           4                   34    276"
      ]
     },
     "execution_count": 79,
     "metadata": {},
     "output_type": "execute_result"
    }
   ],
   "source": [
    "book_agg.head(5)"
   ]
  },
  {
   "cell_type": "code",
   "execution_count": 80,
   "metadata": {
    "collapsed": false
   },
   "outputs": [
    {
     "data": {
      "text/html": [
       "<div>\n",
       "<table border=\"1\" class=\"dataframe\">\n",
       "  <thead>\n",
       "    <tr style=\"text-align: right;\">\n",
       "      <th></th>\n",
       "      <th>bookings</th>\n",
       "      <th>total</th>\n",
       "    </tr>\n",
       "    <tr>\n",
       "      <th>day of week</th>\n",
       "      <th></th>\n",
       "      <th></th>\n",
       "    </tr>\n",
       "  </thead>\n",
       "  <tbody>\n",
       "    <tr>\n",
       "      <th>0</th>\n",
       "      <td>490445</td>\n",
       "      <td>6078350</td>\n",
       "    </tr>\n",
       "    <tr>\n",
       "      <th>1</th>\n",
       "      <td>488571</td>\n",
       "      <td>6065976</td>\n",
       "    </tr>\n",
       "    <tr>\n",
       "      <th>2</th>\n",
       "      <td>487537</td>\n",
       "      <td>6060134</td>\n",
       "    </tr>\n",
       "    <tr>\n",
       "      <th>3</th>\n",
       "      <td>445099</td>\n",
       "      <td>5378831</td>\n",
       "    </tr>\n",
       "    <tr>\n",
       "      <th>4</th>\n",
       "      <td>418085</td>\n",
       "      <td>4866935</td>\n",
       "    </tr>\n",
       "  </tbody>\n",
       "</table>\n",
       "</div>"
      ],
      "text/plain": [
       "             bookings    total\n",
       "day of week                   \n",
       "0              490445  6078350\n",
       "1              488571  6065976\n",
       "2              487537  6060134\n",
       "3              445099  5378831\n",
       "4              418085  4866935"
      ]
     },
     "execution_count": 80,
     "metadata": {},
     "output_type": "execute_result"
    }
   ],
   "source": [
    "book_agg_1 = book_agg.groupby(level=0).agg(['sum'] )\n",
    "book_agg_1.columns = ('bookings', 'total')\n",
    "book_agg_1.head()"
   ]
  },
  {
   "cell_type": "code",
   "execution_count": 86,
   "metadata": {
    "collapsed": false
   },
   "outputs": [
    {
     "data": {
      "text/plain": [
       "<matplotlib.text.Text at 0x190c53910>"
      ]
     },
     "execution_count": 86,
     "metadata": {},
     "output_type": "execute_result"
    },
    {
     "data": {
      "image/png": "[encoded data removed]",
      "text/plain": [
       "<matplotlib.figure.Figure at 0x190c6a450>"
      ]
     },
     "metadata": {},
     "output_type": "display_data"
    }
   ],
   "source": [
    "plot3 = book_agg_1.plot( kind = 'bar', stacked = True,figsize = (18,8),colormap = 'Dark2')\n",
    "plot3.set_xlabel('\\nDay of week ',fontsize = 14 )\n",
    "plot3.set_ylabel('Count\\n',fontsize = 14 )"
   ]
  },
  {
   "cell_type": "code",
   "execution_count": 87,
   "metadata": {
    "collapsed": true
   },
   "outputs": [],
   "source": [
    "fig = plot3.get_figure()\n",
    "fig.savefig('Fig4.png', dpi=300, bbox_inches='tight')"
   ]
  },
  {
   "cell_type": "code",
   "execution_count": 98,
   "metadata": {
    "collapsed": false
   },
   "outputs": [
    {
     "data": {
      "text/plain": [
       "<matplotlib.text.Text at 0x195088c10>"
      ]
     },
     "execution_count": 98,
     "metadata": {},
     "output_type": "execute_result"
    },
    {
     "data": {
      "image/png": "[encoded data removed]",
      "text/plain": [
       "<matplotlib.figure.Figure at 0x193fd5810>"
      ]
     },
     "metadata": {},
     "output_type": "display_data"
    }
   ],
   "source": [
    "# Count of hotels in each cluster\n",
    "plot1 = book['hotel_cluster'].value_counts().plot(kind = 'bar',figsize = (18,8),colormap = 'Set1')\n",
    "plot1.set_xlabel('\\nHotel cluster ',fontsize = 14 )\n",
    "plot1.set_ylabel('Count\\n',fontsize = 14 )"
   ]
  },
  {
   "cell_type": "code",
   "execution_count": 99,
   "metadata": {
    "collapsed": true
   },
   "outputs": [],
   "source": [
    "fig = plot1.get_figure()\n",
    "fig.savefig('Fig5.png', dpi=300, bbox_inches='tight')"
   ]
  },
  {
   "cell_type": "code",
   "execution_count": null,
   "metadata": {
    "collapsed": true
   },
   "outputs": [],
   "source": []
  }
 ],
 "metadata": {
  "kernelspec": {
   "display_name": "Python 2",
   "language": "python",
   "name": "python2"
  },
  "language_info": {
   "codemirror_mode": {
    "name": "ipython",
    "version": 2
   },
   "file_extension": ".py",
   "mimetype": "text/x-python",
   "name": "python",
   "nbconvert_exporter": "python",
   "pygments_lexer": "ipython2",
   "version": "2.7.11"
  }
 },
 "nbformat": 4,
 "nbformat_minor": 0
}
