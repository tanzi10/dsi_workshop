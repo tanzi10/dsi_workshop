{
 "cells": [
  {
   "cell_type": "code",
   "execution_count": 1,
   "metadata": {
    "collapsed": false
   },
   "outputs": [
    {
     "name": "stderr",
     "output_type": "stream",
     "text": [
      "/Users/tanzinazaman/anaconda/lib/python2.7/site-packages/pandas/computation/__init__.py:19: UserWarning: The installed version of numexpr 2.4.4 is not supported in pandas and will be not be used\n",
      "\n",
      "  UserWarning)\n"
     ]
    }
   ],
   "source": [
    "%matplotlib inline\n",
    "import matplotlib\n",
    "import matplotlib.pyplot as plt\n",
    "import pandas as pd\n",
    "import numpy as np"
   ]
  },
  {
   "cell_type": "markdown",
   "metadata": {},
   "source": [
    "# Down-sampling and pre-processing"
   ]
  },
  {
   "cell_type": "code",
   "execution_count": 2,
   "metadata": {
    "collapsed": true
   },
   "outputs": [],
   "source": [
    "# Function to select and load top 10 cluster data\n",
    "def load_top10cluster():\n",
    "    parent_df = pd.read_csv('expedia_train.csv')\n",
    "    top_cluster_list = dict(parent_df['hotel_cluster'].value_counts().head(10)).keys()\n",
    "    sample_df = parent_df[parent_df['hotel_cluster'].isin(top_cluster_list)]\n",
    "    #top_cluster_df.to_csv('top_10_cluster.csv')\n",
    "    #sample_df = sample_df.drop(sample_df.columns[0], axis=1)\n",
    "    df_lst =[parent_df]\n",
    "    del df_lst\n",
    "    return sample_df, top_cluster_list"
   ]
  },
  {
   "cell_type": "code",
   "execution_count": 3,
   "metadata": {
    "collapsed": false
   },
   "outputs": [
    {
     "name": "stdout",
     "output_type": "stream",
     "text": [
      "[64, 65, 98, 59, 5, 41, 42, 48, 21, 91]\n",
      "(6827550, 24)\n"
     ]
    }
   ],
   "source": [
    "sample_df, cluster_id = load_top10cluster()\n",
    "print cluster_id\n",
    "print sample_df.shape"
   ]
  },
  {
   "cell_type": "code",
   "execution_count": 4,
   "metadata": {
    "collapsed": true
   },
   "outputs": [],
   "source": [
    "#create more feature\n",
    "sample_df[\"date_time\"] = pd.to_datetime(sample_df[\"date_time\"])\n",
    "sample_df[\"year\"] = sample_df[\"date_time\"].dt.year\n",
    "sample_df[\"month\"] = sample_df[\"date_time\"].dt.month\n",
    "sample_df['day'] = sample_df[\"date_time\"].dt.day\n",
    "sample_df['day of week'] = sample_df[\"date_time\"].dt.weekday"
   ]
  },
  {
   "cell_type": "code",
   "execution_count": 5,
   "metadata": {
    "collapsed": false
   },
   "outputs": [
    {
     "name": "stdout",
     "output_type": "stream",
     "text": [
      "(4779285, 28)\n",
      "(2048265, 28)\n"
     ]
    }
   ],
   "source": [
    "from sklearn.cross_validation import train_test_split\n",
    "train, test = train_test_split(sample_df, test_size = 0.3)\n",
    "print train.shape\n",
    "print test.shape"
   ]
  },
  {
   "cell_type": "markdown",
   "metadata": {},
   "source": [
    "# Fitting into Logistic regression model"
   ]
  },
  {
   "cell_type": "code",
   "execution_count": 17,
   "metadata": {
    "collapsed": false
   },
   "outputs": [],
   "source": [
    "from sklearn.linear_model import SGDClassifier\n",
    "from sklearn.metrics import accuracy_score,precision_score,f1_score,recall_score,roc_curve, auc, confusion_matrix\n",
    "from sklearn.metrics import precision_recall_curve\n",
    "# re-balance hotel cluster\n",
    "def rebalance_sample():\n",
    "    #cluster_probab = []\n",
    "    probability = dict()\n",
    "    \n",
    "    class_accuracy = []\n",
    "    class_precision = []\n",
    "    class_f1_score = []\n",
    "    class_recall = []\n",
    "    \n",
    "    cm = dict()\n",
    "    fpr = dict()\n",
    "    tpr = dict()\n",
    "    thresholds = []\n",
    "    a_u_c = dict()\n",
    "    \n",
    "    #pre_curve = dict()\n",
    "    #recall_curve = dict()\n",
    "    #area_precision_recall=dict()\n",
    "    \n",
    "    for i,val in enumerate(cluster_id):\n",
    "        new_train = train.copy()\n",
    "        new_test = test.copy()\n",
    "        feature = ['posa_continent','user_location_country','user_location_region','user_location_city','user_id',\n",
    "                   'srch_adults_cnt','srch_rm_cnt','srch_destination_id','is_booking','cnt','hotel_continent',\n",
    "                   'hotel_country','hotel_market','year','month','day','day of week']\n",
    "        #label = ['hotel_cluster']\n",
    "        \n",
    "        #train\n",
    "        new_train.loc[new_train.hotel_cluster != val,'hotel_cluster'] = 0\n",
    "        new_train.loc[new_train.hotel_cluster == val,'hotel_cluster'] = 1\n",
    "        feature_train = new_train.loc[:,(feature)]\n",
    "        label_train = new_train['hotel_cluster'].values\n",
    "        \n",
    "        # test\n",
    "        new_test.loc[new_test.hotel_cluster != val,'hotel_cluster'] = 0\n",
    "        new_test.loc[new_test.hotel_cluster == val,'hotel_cluster'] = 1\n",
    "        feature_test = new_test.loc[:,(feature)]\n",
    "        label_test = new_test['hotel_cluster'].values\n",
    "        y_test = test.loc[:,(feature)]\n",
    "        #y_test = test['hotel_cluster'].values\n",
    "        #y_test = y_test.reshape(-1,1)\n",
    "        \n",
    "        #train model\n",
    "        clf = SGDClassifier(loss = 'log', penalty = 'l2')\n",
    "        clf = clf.fit(feature_train, label_train)\n",
    "        #test model\n",
    "        prediction = clf.predict(feature_test)\n",
    "        \n",
    "        #confusion matrix\n",
    "        cm[i] = confusion_matrix(label_test,prediction)#, labels=[\"0\", \"1\"])\n",
    "        \n",
    "        #calculate probability\n",
    "        probability[i] = clf.predict_proba(y_test)\n",
    "        #cluster_probab.append(probability)\n",
    "        \n",
    "        #evaluate model\n",
    "        acc = round(accuracy_score(prediction,label_test),3)\n",
    "        precision = precision_score(label_test,prediction,average=None)\n",
    "        f1score = f1_score(label_test,prediction,average=None)\n",
    "        recall = recall_score(label_test,prediction,average=None)\n",
    "        fpr[i], tpr[i],thresh = roc_curve(label_test,prediction)\n",
    "        a_u_c[i] = auc(fpr[i], tpr[i])\n",
    "        \n",
    "        #precision- recall curve\n",
    "        #pre_curve[i], recall_curve[i] = precision_recall_curve(label_test,prediction)\n",
    "        #area_precision_recall[i] = auc(pre_curve[i],recall_curve[i])\n",
    "        #pre_curve_1, recall_curve_1 = precision_recall_curve(label_test,prediction)\n",
    "        #pre_curve.append(pre_curve_1)\n",
    "        #recall_curve.append(recall_curve_1)\n",
    "        \n",
    "        \n",
    "        class_accuracy.append(acc)\n",
    "        class_precision.append(precision)\n",
    "        class_f1_score.append(f1score)\n",
    "        class_recall.append(recall)\n",
    "        thresholds.append(thresh)\n",
    "        \n",
    "    return cm, probability,class_accuracy,class_precision,class_f1_score,class_recall,fpr,tpr,thresholds,a_u_c "
   ]
  },
  {
   "cell_type": "code",
   "execution_count": 18,
   "metadata": {
    "collapsed": false
   },
   "outputs": [],
   "source": [
    "cf_matrix, cluster_probab,metric_accuracy,metric_precision,metric_f1_score,metric_recall,metric_fpr,metric_tpr,thresholds,roc_auc= rebalance_sample()\n"
   ]
  },
  {
   "cell_type": "markdown",
   "metadata": {},
   "source": [
    "# Evalution metrics "
   ]
  },
  {
   "cell_type": "code",
   "execution_count": 20,
   "metadata": {
    "collapsed": true
   },
   "outputs": [],
   "source": [
    "def plot_confusion_matrix(cm, title='Confusion matrix', cmap=plt.cm.Blues):\n",
    "    plt.imshow(cm, interpolation='nearest', cmap=cmap)\n",
    "    plt.title(title)\n",
    "    plt.colorbar()\n",
    "    #tick_marks = np.arange(len(iris.target_names))\n",
    "    #plt.xticks(tick_marks, iris.target_names, rotation=45)\n",
    "    #plt.yticks(tick_marks, iris.target_names)\n",
    "    plt.tight_layout()\n",
    "    plt.ylabel('True label')\n",
    "    plt.xlabel('Predicted label')"
   ]
  },
  {
   "cell_type": "code",
   "execution_count": 47,
   "metadata": {
    "collapsed": false
   },
   "outputs": [
    {
     "name": "stdout",
     "output_type": "stream",
     "text": [
      "Confusion matrix, without normalization\n",
      "\n",
      "Cluster order 0\n",
      "[[1738504   98702]\n",
      " [ 160426   50633]] \n",
      "\n",
      "Cluster order 1\n",
      "[[1833975   13226]\n",
      " [ 199483    1581]] \n",
      "\n",
      "Cluster order 2\n",
      "[[1868350    3299]\n",
      " [ 176467     149]] \n",
      "\n",
      "Cluster order 3\n",
      "[[1874996    2228]\n",
      " [ 170516     525]] \n",
      "\n",
      "Cluster order 4\n",
      "[[1858947    3068]\n",
      " [ 185080    1170]] \n",
      "\n",
      "Cluster order 5\n",
      "[[1814911    1342]\n",
      " [ 231876     136]] \n",
      "\n",
      "Cluster order 6\n",
      "[[1857857   24495]\n",
      " [ 163577    2336]] \n",
      "\n",
      "Cluster order 7\n",
      "[[1820850     764]\n",
      " [ 226544     107]] \n",
      "\n",
      "Cluster order 8\n",
      "[[1881404    1554]\n",
      " [ 165131     176]] \n",
      "\n",
      "Cluster order 9\n",
      "[[1681007   54906]\n",
      " [ 301707   10645]] \n",
      "\n"
     ]
    }
   ],
   "source": [
    "print('Confusion matrix, without normalization\\n')\n",
    "for keys, val in cf_matrix.items():\n",
    "    print 'Cluster order',keys\n",
    "    print val, '\\n'"
   ]
  },
  {
   "cell_type": "code",
   "execution_count": 27,
   "metadata": {
    "collapsed": false
   },
   "outputs": [
    {
     "data": {
      "image/png": "[encoded data removed]",
      "text/plain": [
       "<matplotlib.figure.Figure at 0x10e4929d0>"
      ]
     },
     "metadata": {},
     "output_type": "display_data"
    }
   ],
   "source": [
    "fig = plt.figure()\n",
    "plot_confusion_matrix(cf_matrix[0])\n",
    "fig.savefig('cmatrix1.png',bbox_inches='tight')"
   ]
  },
  {
   "cell_type": "code",
   "execution_count": 48,
   "metadata": {
    "collapsed": false
   },
   "outputs": [
    {
     "data": {
      "text/plain": [
       "[64, 65, 98, 59, 5, 41, 42, 48, 21, 91]"
      ]
     },
     "execution_count": 48,
     "metadata": {},
     "output_type": "execute_result"
    }
   ],
   "source": [
    "cluster_id"
   ]
  },
  {
   "cell_type": "code",
   "execution_count": 51,
   "metadata": {
    "collapsed": false
   },
   "outputs": [
    {
     "name": "stdout",
     "output_type": "stream",
     "text": [
      "Probability for each classifier\n",
      "\n",
      "Cluster order 0\n",
      "[[ 1.  0.]\n",
      " [ 1.  0.]\n",
      " [ 1.  0.]\n",
      " ..., \n",
      " [ 0.  1.]\n",
      " [ 1.  0.]\n",
      " [ 1.  0.]] \n",
      "\n",
      "Cluster order 1\n",
      "[[ 1.  0.]\n",
      " [ 1.  0.]\n",
      " [ 1.  0.]\n",
      " ..., \n",
      " [ 1.  0.]\n",
      " [ 1.  0.]\n",
      " [ 1.  0.]] \n",
      "\n",
      "Cluster order 2\n",
      "[[ 1.  0.]\n",
      " [ 1.  0.]\n",
      " [ 1.  0.]\n",
      " ..., \n",
      " [ 1.  0.]\n",
      " [ 1.  0.]\n",
      " [ 1.  0.]] \n",
      "\n",
      "Cluster order 3\n",
      "[[ 1.  0.]\n",
      " [ 1.  0.]\n",
      " [ 1.  0.]\n",
      " ..., \n",
      " [ 1.  0.]\n",
      " [ 1.  0.]\n",
      " [ 1.  0.]] \n",
      "\n",
      "Cluster order 4\n",
      "[[ 1.  0.]\n",
      " [ 1.  0.]\n",
      " [ 1.  0.]\n",
      " ..., \n",
      " [ 1.  0.]\n",
      " [ 1.  0.]\n",
      " [ 1.  0.]] \n",
      "\n",
      "Cluster order 5\n",
      "[[ 1.  0.]\n",
      " [ 1.  0.]\n",
      " [ 1.  0.]\n",
      " ..., \n",
      " [ 1.  0.]\n",
      " [ 1.  0.]\n",
      " [ 1.  0.]] \n",
      "\n",
      "Cluster order 6\n",
      "[[ 1.  0.]\n",
      " [ 1.  0.]\n",
      " [ 1.  0.]\n",
      " ..., \n",
      " [ 1.  0.]\n",
      " [ 1.  0.]\n",
      " [ 1.  0.]] \n",
      "\n",
      "Cluster order 7\n",
      "[[ 1.  0.]\n",
      " [ 1.  0.]\n",
      " [ 1.  0.]\n",
      " ..., \n",
      " [ 1.  0.]\n",
      " [ 1.  0.]\n",
      " [ 1.  0.]] \n",
      "\n",
      "Cluster order 8\n",
      "[[ 1.  0.]\n",
      " [ 1.  0.]\n",
      " [ 1.  0.]\n",
      " ..., \n",
      " [ 1.  0.]\n",
      " [ 1.  0.]\n",
      " [ 1.  0.]] \n",
      "\n",
      "Cluster order 9\n",
      "[[ 1.  0.]\n",
      " [ 1.  0.]\n",
      " [ 1.  0.]\n",
      " ..., \n",
      " [ 1.  0.]\n",
      " [ 1.  0.]\n",
      " [ 1.  0.]] \n",
      "\n"
     ]
    }
   ],
   "source": [
    "print('Probability for each classifier\\n')\n",
    "for keys, val in cluster_probab.items():\n",
    "    print 'Cluster order',keys\n",
    "    print val, '\\n'\n"
   ]
  },
  {
   "cell_type": "code",
   "execution_count": 81,
   "metadata": {
    "collapsed": false
   },
   "outputs": [
    {
     "name": "stdout",
     "output_type": "stream",
     "text": [
      "accuracy 87.3\n",
      "accuracy 89.6\n",
      "accuracy 91.2\n",
      "accuracy 91.6\n",
      "accuracy 90.8\n",
      "accuracy 88.6\n",
      "accuracy 90.8\n",
      "accuracy 88.9\n",
      "accuracy 91.9\n",
      "accuracy 82.6\n"
     ]
    }
   ],
   "source": [
    "for i in metric_accuracy:\n",
    "    print 'accuracy', i*100"
   ]
  },
  {
   "cell_type": "code",
   "execution_count": 53,
   "metadata": {
    "collapsed": false
   },
   "outputs": [
    {
     "data": {
      "text/plain": [
       "[array([ 0.91551769,  0.33905648]),\n",
       " array([ 0.90189962,  0.10677382]),\n",
       " array([ 0.91370035,  0.04321346]),\n",
       " array([ 0.91663896,  0.19070105]),\n",
       " array([ 0.90945325,  0.27607362]),\n",
       " array([ 0.8867122 ,  0.09201624]),\n",
       " array([ 0.91907873,  0.08706347]),\n",
       " array([ 0.88935007,  0.1228473 ]),\n",
       " array([ 0.91931191,  0.1017341 ]),\n",
       " array([ 0.84783131,  0.16239264])]"
      ]
     },
     "execution_count": 53,
     "metadata": {},
     "output_type": "execute_result"
    }
   ],
   "source": [
    "metric_precision"
   ]
  },
  {
   "cell_type": "code",
   "execution_count": 54,
   "metadata": {
    "collapsed": false
   },
   "outputs": [
    {
     "data": {
      "text/plain": [
       "[array([ 0.93064278,  0.28098692]),\n",
       " array([ 0.9451874 ,  0.01464764]),\n",
       " array([ 0.95409995,  0.00165497]),\n",
       " array([ 0.95596339,  0.00604164]),\n",
       " array([ 0.95183155,  0.01228424]),\n",
       " array([ 0.93962838,  0.00116493]),\n",
       " array([ 0.95182318,  0.02423941]),\n",
       " array([  9.41249023e-01,   9.40568385e-04]),\n",
       " array([ 0.95758104,  0.00210732]),\n",
       " array([ 0.9041009 ,  0.05633721])]"
      ]
     },
     "execution_count": 54,
     "metadata": {},
     "output_type": "execute_result"
    }
   ],
   "source": [
    "metric_f1_score"
   ]
  },
  {
   "cell_type": "code",
   "execution_count": 55,
   "metadata": {
    "collapsed": false
   },
   "outputs": [
    {
     "data": {
      "text/plain": [
       "[array([ 0.94627603,  0.23989974]),\n",
       " array([ 0.99283998,  0.00786317]),\n",
       " array([  9.98237383e-01,   8.43638175e-04]),\n",
       " array([ 0.99881314,  0.00306944]),\n",
       " array([ 0.99835232,  0.00628188]),\n",
       " array([  9.99261116e-01,   5.86176577e-04]),\n",
       " array([ 0.98698702,  0.01407967]),\n",
       " array([  9.99580592e-01,   4.72091453e-04]),\n",
       " array([ 0.9991747 ,  0.00106469]),\n",
       " array([ 0.96837053,  0.03408014])]"
      ]
     },
     "execution_count": 55,
     "metadata": {},
     "output_type": "execute_result"
    }
   ],
   "source": [
    "metric_recall"
   ]
  },
  {
   "cell_type": "code",
   "execution_count": 56,
   "metadata": {
    "collapsed": false
   },
   "outputs": [
    {
     "data": {
      "text/plain": [
       "{0: array([ 0.        ,  0.05372397,  1.        ]),\n",
       " 1: array([ 0.        ,  0.00716002,  1.        ]),\n",
       " 2: array([ 0.        ,  0.00176262,  1.        ]),\n",
       " 3: array([ 0.        ,  0.00118686,  1.        ]),\n",
       " 4: array([ 0.        ,  0.00164768,  1.        ]),\n",
       " 5: array([  0.00000000e+00,   7.38883845e-04,   1.00000000e+00]),\n",
       " 6: array([ 0.        ,  0.01301298,  1.        ]),\n",
       " 7: array([  0.00000000e+00,   4.19408283e-04,   1.00000000e+00]),\n",
       " 8: array([  0.00000000e+00,   8.25297219e-04,   1.00000000e+00]),\n",
       " 9: array([ 0.        ,  0.03162947,  1.        ])}"
      ]
     },
     "execution_count": 56,
     "metadata": {},
     "output_type": "execute_result"
    }
   ],
   "source": [
    "metric_fpr"
   ]
  },
  {
   "cell_type": "code",
   "execution_count": 57,
   "metadata": {
    "collapsed": false
   },
   "outputs": [
    {
     "data": {
      "text/plain": [
       "{0: array([ 0.        ,  0.23989974,  1.        ]),\n",
       " 1: array([ 0.        ,  0.00786317,  1.        ]),\n",
       " 2: array([  0.00000000e+00,   8.43638175e-04,   1.00000000e+00]),\n",
       " 3: array([ 0.        ,  0.00306944,  1.        ]),\n",
       " 4: array([ 0.        ,  0.00628188,  1.        ]),\n",
       " 5: array([  0.00000000e+00,   5.86176577e-04,   1.00000000e+00]),\n",
       " 6: array([ 0.        ,  0.01407967,  1.        ]),\n",
       " 7: array([  0.00000000e+00,   4.72091453e-04,   1.00000000e+00]),\n",
       " 8: array([ 0.        ,  0.00106469,  1.        ]),\n",
       " 9: array([ 0.        ,  0.03408014,  1.        ])}"
      ]
     },
     "execution_count": 57,
     "metadata": {},
     "output_type": "execute_result"
    }
   ],
   "source": [
    "metric_tpr"
   ]
  },
  {
   "cell_type": "code",
   "execution_count": 58,
   "metadata": {
    "collapsed": false
   },
   "outputs": [
    {
     "data": {
      "text/plain": [
       "{0: 0.5930878868443562,\n",
       " 1: 0.50035157291869914,\n",
       " 2: 0.49954051068001881,\n",
       " 3: 0.50094129029867263,\n",
       " 4: 0.50231710090643489,\n",
       " 5: 0.49992364636607334,\n",
       " 6: 0.50053334650169179,\n",
       " 7: 0.50002634158519776,\n",
       " 8: 0.50011969424373204,\n",
       " 9: 0.5012253375264637}"
      ]
     },
     "execution_count": 58,
     "metadata": {},
     "output_type": "execute_result"
    }
   ],
   "source": [
    "roc_auc"
   ]
  },
  {
   "cell_type": "code",
   "execution_count": 67,
   "metadata": {
    "collapsed": false
   },
   "outputs": [
    {
     "data": {
      "image/png": "[encoded data removed]",
      "text/plain": [
       "<matplotlib.figure.Figure at 0x3269de650>"
      ]
     },
     "metadata": {},
     "output_type": "display_data"
    }
   ],
   "source": [
    "fig = plt.figure()\n",
    "plt.plot(metric_fpr[0], metric_tpr[0])\n",
    "plt.plot([0, 1], [0, 1], 'k--')\n",
    "plt.xlim([0.0, 1.0])\n",
    "plt.ylim([0.0, 1.05])\n",
    "plt.xlabel('False Positive Rate')\n",
    "plt.ylabel('True Positive Rate')\n",
    "plt.title('Receiver operating characteristic')\n",
    "plt.legend(loc=\"lower right\")\n",
    "plt.show()\n",
    "fig.savefig('roc1.png',bbox_inches='tight')"
   ]
  },
  {
   "cell_type": "code",
   "execution_count": 76,
   "metadata": {
    "collapsed": false
   },
   "outputs": [
    {
     "data": {
      "image/png": "[encoded data removed]",
      "text/plain": [
       "<matplotlib.figure.Figure at 0x343286a90>"
      ]
     },
     "metadata": {},
     "output_type": "display_data"
    }
   ],
   "source": [
    "fig = plt.figure()\n",
    "plt.plot(metric_fpr[9], metric_tpr[9])\n",
    "plt.plot([0, 1], [0, 1], 'k--')\n",
    "plt.xlim([0.0, 1.0])\n",
    "plt.ylim([0.0, 1.05])\n",
    "plt.xlabel('False Positive Rate')\n",
    "plt.ylabel('True Positive Rate')\n",
    "plt.title('Receiver operating characteristic')\n",
    "plt.legend(loc=\"lower right\")\n",
    "plt.show()\n",
    "fig.savefig('roc10.png',bbox_inches='tight')"
   ]
  },
  {
   "cell_type": "code",
   "execution_count": 40,
   "metadata": {
    "collapsed": false
   },
   "outputs": [
    {
     "data": {
      "image/png": "[encoded data removed]",
      "text/plain": [
       "<matplotlib.figure.Figure at 0x343284090>"
      ]
     },
     "metadata": {},
     "output_type": "display_data"
    }
   ],
   "source": [
    "fig = plt.figure()\n",
    "plot_confusion_matrix(cf_matrix[9])\n",
    "fig.savefig('cmatrix10.png',bbox_inches='tight')"
   ]
  },
  {
   "cell_type": "code",
   "execution_count": null,
   "metadata": {
    "collapsed": true
   },
   "outputs": [],
   "source": []
  }
 ],
 "metadata": {
  "kernelspec": {
   "display_name": "Python 2",
   "language": "python",
   "name": "python2"
  },
  "language_info": {
   "codemirror_mode": {
    "name": "ipython",
    "version": 2
   },
   "file_extension": ".py",
   "mimetype": "text/x-python",
   "name": "python",
   "nbconvert_exporter": "python",
   "pygments_lexer": "ipython2",
   "version": "2.7.11"
  }
 },
 "nbformat": 4,
 "nbformat_minor": 0
}
